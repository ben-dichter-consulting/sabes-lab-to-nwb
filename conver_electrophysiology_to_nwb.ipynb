{
 "cells": [
  {
   "cell_type": "code",
   "execution_count": 1,
   "metadata": {},
   "outputs": [],
   "source": [
    "#import the relevant modules to read from .mat file and to manipulate NWB file groups and datasets\n",
    "\n",
    "import numpy as np\n",
    "import datetime\n",
    "from dateutil.tz import tzlocal\n",
    "import pytz\n",
    "import h5py\n",
    "from hdmf.backends.hdf5 import H5DataIO\n",
    "import hdf5storage\n",
    "import os\n",
    "from pynwb import NWBFile, NWBHDF5IO, ProcessingModule\n",
    "from pynwb.device import Device\n",
    "from pynwb.base import TimeSeries\n",
    "from pynwb.ecephys import ElectrodeGroup, SpikeEventSeries"
   ]
  },
  {
   "cell_type": "code",
   "execution_count": 2,
   "metadata": {},
   "outputs": [],
   "source": [
    "#Load the .mat files containing sorted spikes\n",
    "\n",
    "path_to_files = 'C:/Users/Admin/Desktop/Ben Dichter/nwbn-conversion-tools/datafiles'\n",
    "\n",
    "# Open info file\n",
    "fname0 = 'indy_20160407_02.mat'\n",
    "fpath0 = os.path.join(path_to_files, fname0)\n",
    "f_info = hdf5storage.loadmat(fpath0)\n",
    "#f_info = h5py.File(fpath0)\n",
    "info = f_info.keys()\n",
    "#f_info['spikes']"
   ]
  },
  {
   "cell_type": "code",
   "execution_count": 3,
   "metadata": {},
   "outputs": [
    {
     "name": "stdout",
     "output_type": "stream",
     "text": [
      "root pynwb.file.NWBFile at 0x2309406322248\n",
      "Fields:\n",
      "  experiment_description: experiment_description\n",
      "  experimenter: ['Joseph E. ODoherty']\n",
      "  file_create_date: [datetime.datetime(2020, 4, 1, 13, 2, 51, 684318, tzinfo=tzlocal())]\n",
      "  identifier: indy_20160407_02\n",
      "  institution: University of California, San Francisco\n",
      "  lab: Sabes lab\n",
      "  session_description: Multichannel Sensorimotor Cortex Electrophysiology\n",
      "  session_id: indy_20160407_02\n",
      "  session_start_time: 2016-04-07 00:00:00-07:53\n",
      "  timestamps_reference_time: 2016-04-07 00:00:00-07:53\n",
      "\n"
     ]
    }
   ],
   "source": [
    "# Create a new NWB file instance\n",
    "\n",
    "session_start_time = datetime.datetime(2016,4,7,tzinfo=pytz.timezone(\"America/Los_Angeles\"))\n",
    "experiment_description = 'The behavioral task was to make self-paced reaches to targets arranged in a grid (e.g. 8x8) without gaps or pre-movement delay intervals.'\n",
    "\n",
    "nwb = NWBFile(session_description='Multichannel Sensorimotor Cortex Electrophysiology', \n",
    "              identifier='indy_20160407_02', \n",
    "              session_start_time=session_start_time,\n",
    "              experimenter='Joseph E. ODoherty',\n",
    "              lab='Sabes lab',\n",
    "              institution='University of California, San Francisco',\n",
    "              experiment_description='experiment_description',\n",
    "              session_id='indy_20160407_02')\n",
    "print(nwb)"
   ]
  },
  {
   "cell_type": "code",
   "execution_count": 4,
   "metadata": {},
   "outputs": [
    {
     "name": "stdout",
     "output_type": "stream",
     "text": [
      "root pynwb.file.NWBFile at 0x2309406322248\n",
      "Fields:\n",
      "  devices: {\n",
      "    96_Channels_Electrode_Array_Recording_Device_M1 <class 'pynwb.device.Device'>,\n",
      "    96_Channels_Electrode_Array_Recording_Device_S1 <class 'pynwb.device.Device'>\n",
      "  }\n",
      "  electrodes: electrodes <class 'hdmf.common.table.DynamicTable'>\n",
      "  experiment_description: experiment_description\n",
      "  experimenter: ['Joseph E. ODoherty']\n",
      "  file_create_date: [datetime.datetime(2020, 4, 1, 13, 2, 51, 684318, tzinfo=tzlocal())]\n",
      "  identifier: indy_20160407_02\n",
      "  institution: University of California, San Francisco\n",
      "  lab: Sabes lab\n",
      "  session_description: Multichannel Sensorimotor Cortex Electrophysiology\n",
      "  session_id: indy_20160407_02\n",
      "  session_start_time: 2016-04-07 00:00:00-07:53\n",
      "  timestamps_reference_time: 2016-04-07 00:00:00-07:53\n",
      "\n"
     ]
    }
   ],
   "source": [
    "# Create Device and ElectrodeGroup and adding electrode information to nwb.\n",
    "\n",
    "#Create and add devices\n",
    "device_M1 = Device('96_Channels_Electrode_Array_Recording_Device_M1')\n",
    "nwb.add_device(device_M1)\n",
    "\n",
    "device_S1 = Device('96_Channels_Electrode_Array_Recording_Device_S1')\n",
    "nwb.add_device(device_S1)\n",
    "\n",
    "# Create Electrode group M1\n",
    "electrode_group_M1 = ElectrodeGroup(name='ElectrodeArray_M1', description='96 Channels Array', \n",
    "                                    location='Motor Cortex', \n",
    "                                    device=device_M1)\n",
    "\n",
    "for idx in np.arange(96):\n",
    "    nwb.add_electrode(id=idx,\n",
    "                          x=np.nan, y=np.nan, z=np.nan,\n",
    "                          imp=float(-idx),\n",
    "                          location='M1', filtering='none',\n",
    "                          group=electrode_group_M1)\n",
    "\n",
    "\n",
    "# Create Electrode group S1\n",
    "electrode_group_S1 = ElectrodeGroup(name='ElectrodeArray_S1', description='96 Channels Array', \n",
    "                                    location='Somatosensory Cortex', \n",
    "                                    device=device_S1)\n",
    "\n",
    "for idx in np.arange(96):\n",
    "    nwb.add_electrode(id=idx,\n",
    "                          x=np.nan, y=np.nan, z=np.nan,\n",
    "                          imp=float(-idx),\n",
    "                          location='S1', filtering='none',\n",
    "                          group=electrode_group_S1)\n",
    "\n",
    "\n",
    "print(nwb)"
   ]
  },
  {
   "cell_type": "code",
   "execution_count": 5,
   "metadata": {},
   "outputs": [
    {
     "ename": "ValueError",
     "evalue": "ElectricalSeries.__init__: incorrect shape for 'timestamps' (got '(96, 3)', expected '(None,)')",
     "output_type": "error",
     "traceback": [
      "\u001b[1;31m---------------------------------------------------------------------------\u001b[0m",
      "\u001b[1;31mValueError\u001b[0m                                Traceback (most recent call last)",
      "\u001b[1;32m<ipython-input-5-4e044eb39614>\u001b[0m in \u001b[0;36m<module>\u001b[1;34m\u001b[0m\n\u001b[0;32m     11\u001b[0m                             \u001b[0mresolution\u001b[0m\u001b[1;33m=\u001b[0m\u001b[1;36m4.096e-05\u001b[0m\u001b[1;33m,\u001b[0m\u001b[1;33m\u001b[0m\u001b[1;33m\u001b[0m\u001b[0m\n\u001b[0;32m     12\u001b[0m                             \u001b[0mconversion\u001b[0m\u001b[1;33m=\u001b[0m\u001b[0mnp\u001b[0m\u001b[1;33m.\u001b[0m\u001b[0mnan\u001b[0m\u001b[1;33m,\u001b[0m\u001b[1;33m\u001b[0m\u001b[1;33m\u001b[0m\u001b[0m\n\u001b[1;32m---> 13\u001b[1;33m                             description=description)\n\u001b[0m\u001b[0;32m     14\u001b[0m \u001b[1;33m\u001b[0m\u001b[0m\n\u001b[0;32m     15\u001b[0m \u001b[0mnwb\u001b[0m\u001b[1;33m.\u001b[0m\u001b[0madd_acquisition\u001b[0m\u001b[1;33m(\u001b[0m\u001b[0mephys_ts_M1\u001b[0m\u001b[1;33m)\u001b[0m\u001b[1;33m\u001b[0m\u001b[1;33m\u001b[0m\u001b[0m\n",
      "\u001b[1;32m~\\Anaconda3\\envs\\nwbn_conversion\\lib\\site-packages\\hdmf\\utils.py\u001b[0m in \u001b[0;36mfunc_call\u001b[1;34m(*args, **kwargs)\u001b[0m\n\u001b[0;32m    481\u001b[0m \u001b[1;33m\u001b[0m\u001b[0m\n\u001b[0;32m    482\u001b[0m             \u001b[1;32mif\u001b[0m \u001b[0mis_method\u001b[0m\u001b[1;33m:\u001b[0m\u001b[1;33m\u001b[0m\u001b[1;33m\u001b[0m\u001b[0m\n\u001b[1;32m--> 483\u001b[1;33m                 \u001b[1;32mreturn\u001b[0m \u001b[0mfunc\u001b[0m\u001b[1;33m(\u001b[0m\u001b[0margs\u001b[0m\u001b[1;33m[\u001b[0m\u001b[1;36m0\u001b[0m\u001b[1;33m]\u001b[0m\u001b[1;33m,\u001b[0m \u001b[1;33m**\u001b[0m\u001b[0mparsed\u001b[0m\u001b[1;33m[\u001b[0m\u001b[1;34m'args'\u001b[0m\u001b[1;33m]\u001b[0m\u001b[1;33m)\u001b[0m\u001b[1;33m\u001b[0m\u001b[1;33m\u001b[0m\u001b[0m\n\u001b[0m\u001b[0;32m    484\u001b[0m             \u001b[1;32melse\u001b[0m\u001b[1;33m:\u001b[0m\u001b[1;33m\u001b[0m\u001b[1;33m\u001b[0m\u001b[0m\n\u001b[0;32m    485\u001b[0m                 \u001b[1;32mreturn\u001b[0m \u001b[0mfunc\u001b[0m\u001b[1;33m(\u001b[0m\u001b[1;33m**\u001b[0m\u001b[0mparsed\u001b[0m\u001b[1;33m[\u001b[0m\u001b[1;34m'args'\u001b[0m\u001b[1;33m]\u001b[0m\u001b[1;33m)\u001b[0m\u001b[1;33m\u001b[0m\u001b[1;33m\u001b[0m\u001b[0m\n",
      "\u001b[1;32m~\\Anaconda3\\envs\\nwbn_conversion\\lib\\site-packages\\pynwb\\ecephys.py\u001b[0m in \u001b[0;36m__init__\u001b[1;34m(self, **kwargs)\u001b[0m\n\u001b[0;32m    105\u001b[0m                 \u001b[1;31m# TODO: add check when we have DataChunkIterators\u001b[0m\u001b[1;33m\u001b[0m\u001b[1;33m\u001b[0m\u001b[1;33m\u001b[0m\u001b[0m\n\u001b[0;32m    106\u001b[0m                 \u001b[1;32mpass\u001b[0m\u001b[1;33m\u001b[0m\u001b[1;33m\u001b[0m\u001b[0m\n\u001b[1;32m--> 107\u001b[1;33m         \u001b[0msuper\u001b[0m\u001b[1;33m(\u001b[0m\u001b[0mSpikeEventSeries\u001b[0m\u001b[1;33m,\u001b[0m \u001b[0mself\u001b[0m\u001b[1;33m)\u001b[0m\u001b[1;33m.\u001b[0m\u001b[0m__init__\u001b[0m\u001b[1;33m(\u001b[0m\u001b[0mname\u001b[0m\u001b[1;33m,\u001b[0m \u001b[0mdata\u001b[0m\u001b[1;33m,\u001b[0m \u001b[0melectrodes\u001b[0m\u001b[1;33m,\u001b[0m \u001b[1;33m**\u001b[0m\u001b[0mkwargs\u001b[0m\u001b[1;33m)\u001b[0m\u001b[1;33m\u001b[0m\u001b[1;33m\u001b[0m\u001b[0m\n\u001b[0m\u001b[0;32m    108\u001b[0m \u001b[1;33m\u001b[0m\u001b[0m\n\u001b[0;32m    109\u001b[0m \u001b[1;33m\u001b[0m\u001b[0m\n",
      "\u001b[1;32m~\\Anaconda3\\envs\\nwbn_conversion\\lib\\site-packages\\hdmf\\utils.py\u001b[0m in \u001b[0;36mfunc_call\u001b[1;34m(*args, **kwargs)\u001b[0m\n\u001b[0;32m    478\u001b[0m                 \u001b[1;32mif\u001b[0m \u001b[0mparse_err\u001b[0m\u001b[1;33m:\u001b[0m\u001b[1;33m\u001b[0m\u001b[1;33m\u001b[0m\u001b[0m\n\u001b[0;32m    479\u001b[0m                     \u001b[0mmsg\u001b[0m \u001b[1;33m=\u001b[0m \u001b[1;34m'%s: %s'\u001b[0m \u001b[1;33m%\u001b[0m \u001b[1;33m(\u001b[0m\u001b[0mfunc\u001b[0m\u001b[1;33m.\u001b[0m\u001b[0m__qualname__\u001b[0m\u001b[1;33m,\u001b[0m \u001b[1;34m', '\u001b[0m\u001b[1;33m.\u001b[0m\u001b[0mjoin\u001b[0m\u001b[1;33m(\u001b[0m\u001b[0mparse_err\u001b[0m\u001b[1;33m)\u001b[0m\u001b[1;33m)\u001b[0m\u001b[1;33m\u001b[0m\u001b[1;33m\u001b[0m\u001b[0m\n\u001b[1;32m--> 480\u001b[1;33m                     \u001b[1;32mraise\u001b[0m \u001b[0mExceptionType\u001b[0m\u001b[1;33m(\u001b[0m\u001b[0mmsg\u001b[0m\u001b[1;33m)\u001b[0m\u001b[1;33m\u001b[0m\u001b[1;33m\u001b[0m\u001b[0m\n\u001b[0m\u001b[0;32m    481\u001b[0m \u001b[1;33m\u001b[0m\u001b[0m\n\u001b[0;32m    482\u001b[0m             \u001b[1;32mif\u001b[0m \u001b[0mis_method\u001b[0m\u001b[1;33m:\u001b[0m\u001b[1;33m\u001b[0m\u001b[1;33m\u001b[0m\u001b[0m\n",
      "\u001b[1;31mValueError\u001b[0m: ElectricalSeries.__init__: incorrect shape for 'timestamps' (got '(96, 3)', expected '(None,)')"
     ]
    }
   ],
   "source": [
    "# Create SpikeEventSeries container to store the spike waveform data. Spike waveform data usually goes on the acquisition group of NWB files.\n",
    "\n",
    "#Stores raw data in acquisition group\n",
    "\n",
    "electrode_table_region_M1 = nwb.create_electrode_table_region(list(range(96)), 'the 96 electrodes in the array M1')\n",
    "description = 'A cell array of spike event waveform \"snippets\". Each element in the cell array is a matrix of spike event waveforms. Each waveform corresponds to a timestamp in \"spikes\". Waveform samples are in microvolts.'\n",
    "ephys_ts_M1 = SpikeEventSeries(name='M1 Spike Events',\n",
    "                            data=f_info['wf'][0:96,:],\n",
    "                            timestamps=f_info['spikes'][0:96,:],\n",
    "                            electrodes=electrode_table_region_M1,\n",
    "                            resolution=4.096e-05,\n",
    "                            conversion=np.nan,\n",
    "                            description=description)\n",
    "\n",
    "nwb.add_acquisition(ephys_ts_M1)\n",
    "\n",
    "\n",
    "electrode_table_region_S1 = nwb.create_electrode_table_region(list(range(96)), 'the 96 electrodes in the array S1')\n",
    "description = 'A cell array of spike event waveform \"snippets\". Each element in the cell array is a matrix of spike event waveforms. Each waveform corresponds to a timestamp in \"spikes\". Waveform samples are in microvolts.'\n",
    "ephys_ts_S1 = SpikeEventSeries(name='S1 Spike Events',\n",
    "                            data=f_info['wf'][96:192,:],\n",
    "                            timestamps=f_info['spikes'][96:192,:],\n",
    "                            electrodes=electrode_table_region_S1,\n",
    "                            resolution=4.096e-05,\n",
    "                            conversion=np.nan,\n",
    "                            description=description)\n",
    "\n",
    "nwb.add_acquisition(ephys_ts_S1)\n",
    "\n",
    "print(nwb.acquisition)"
   ]
  },
  {
   "cell_type": "code",
   "execution_count": null,
   "metadata": {},
   "outputs": [],
   "source": [
    "# Associate electrodes with units\n"
   ]
  },
  {
   "cell_type": "code",
   "execution_count": null,
   "metadata": {},
   "outputs": [],
   "source": [
    "# Save NWB to file:\n",
    "\n",
    "fname_nwb = 'indy_20160407_02.nwb'\n",
    "fpath_nwb = os.path.join(path_to_files, fname_nwb)\n",
    "with NWBHDF5IO(fpath_nwb, mode='w') as io:\n",
    "    io.write(nwb)\n",
    "print('File saved with size: ', os.stat(fpath_nwb).st_size/1e6, ' mb')"
   ]
  },
  {
   "cell_type": "code",
   "execution_count": null,
   "metadata": {},
   "outputs": [],
   "source": [
    "# Load NWB:\n",
    "\n",
    "io = NWBHDF5IO(fpath_nwb, mode='r')\n",
    "nwbfile = io.read()"
   ]
  }
 ],
 "metadata": {
  "kernelspec": {
   "display_name": "Python 3",
   "language": "python",
   "name": "python3"
  },
  "language_info": {
   "codemirror_mode": {
    "name": "ipython",
    "version": 3
   },
   "file_extension": ".py",
   "mimetype": "text/x-python",
   "name": "python",
   "nbconvert_exporter": "python",
   "pygments_lexer": "ipython3",
   "version": "3.7.7"
  }
 },
 "nbformat": 4,
 "nbformat_minor": 4
}
